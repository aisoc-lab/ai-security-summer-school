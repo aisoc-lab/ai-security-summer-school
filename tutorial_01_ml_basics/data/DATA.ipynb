{
 "cells": [
  {
   "cell_type": "code",
   "execution_count": 1,
   "metadata": {},
   "outputs": [
    {
     "name": "stderr",
     "output_type": "stream",
     "text": [
      "/data/zahra/anaconda3/miniconda3/lib/python3.12/site-packages/tqdm/auto.py:21: TqdmWarning: IProgress not found. Please update jupyter and ipywidgets. See https://ipywidgets.readthedocs.io/en/stable/user_install.html\n",
      "  from .autonotebook import tqdm as notebook_tqdm\n"
     ]
    }
   ],
   "source": [
    "from datasets import Dataset\n",
    "import pandas as pd\n",
    "\n",
    "# Load and filter dataset\n",
    "url = \"https://raw.githubusercontent.com/nyu-mll/crows-pairs/master/data/crows_pairs_anonymized.csv\"\n",
    "df = pd.read_csv(url)\n",
    "df = df[[\"sent_more\", \"sent_less\", \"bias_type\"]]\n",
    "\n",
    "# Convert to Hugging Face Dataset\n",
    "dataset = Dataset.from_pandas(df)\n",
    "\n",
    "# Sample 50 examples (with fixed seed for reproducibility)\n",
    "sampled_dataset = dataset.shuffle(seed=42).select(range(50))\n",
    "\n",
    "# Convert back to pandas DataFrame\n",
    "sampled_df = sampled_dataset.to_pandas()\n",
    "\n",
    "# Save to CSV\n",
    "sampled_df.to_csv(\"crows_pairs_sample.csv\", index=False)"
   ]
  },
  {
   "cell_type": "code",
   "execution_count": null,
   "metadata": {},
   "outputs": [],
   "source": [
    "from datasets import load_dataset, Dataset\n",
    "import pandas as pd\n",
    "\n",
    "# ----------------------\n",
    "# 1. Dolly 15k\n",
    "# ----------------------\n",
    "dolly_ds = load_dataset(\"databricks/databricks-dolly-15k\", split=\"train\")\n",
    "\n",
    "# Sample 50 examples (with fixed seed for reproducibility)\n",
    "dolly_sample = dolly_ds.shuffle(seed=42).select(range(50))\n",
    "\n",
    "# Convert to pandas and save\n",
    "dolly_df = dolly_sample.to_pandas()\n",
    "dolly_df.to_csv(\"dolly_50_sample.csv\", index=False)\n",
    "dolly_df.to_json(\"dolly_50_sample.json\", orient=\"records\", lines=True)\n",
    "\n",
    "# ----------------------\n",
    "# 2. IMDb (Stanford NLP)\n",
    "# ----------------------\n",
    "imdb_ds = load_dataset(\"stanfordnlp/imdb\", split=\"train\")\n",
    "\n",
    "# Sample 50 examples\n",
    "imdb_sample = imdb_ds.shuffle(seed=42).select(range(50))\n",
    "\n",
    "# Convert to pandas and save\n",
    "imdb_df = imdb_sample.to_pandas()\n",
    "imdb_df.to_csv(\"imdb_50_sample.csv\", index=False)\n",
    "imdb_df.to_json(\"imdb_50_sample.json\", orient=\"records\", lines=True)\n"
   ]
  }
 ],
 "metadata": {
  "kernelspec": {
   "display_name": "base",
   "language": "python",
   "name": "python3"
  },
  "language_info": {
   "codemirror_mode": {
    "name": "ipython",
    "version": 3
   },
   "file_extension": ".py",
   "mimetype": "text/x-python",
   "name": "python",
   "nbconvert_exporter": "python",
   "pygments_lexer": "ipython3",
   "version": "3.12.2"
  }
 },
 "nbformat": 4,
 "nbformat_minor": 2
}
