{
 "cells": [
  {
   "cell_type": "code",
   "execution_count": 1,
   "metadata": {},
   "outputs": [
    {
     "name": "stderr",
     "output_type": "stream",
     "text": [
      "/data/zahra/anaconda3/miniconda3/lib/python3.12/site-packages/tqdm/auto.py:21: TqdmWarning: IProgress not found. Please update jupyter and ipywidgets. See https://ipywidgets.readthedocs.io/en/stable/user_install.html\n",
      "  from .autonotebook import tqdm as notebook_tqdm\n"
     ]
    }
   ],
   "source": [
    "from datasets import Dataset\n",
    "import pandas as pd\n",
    "\n",
    "# Load and filter dataset\n",
    "url = \"https://raw.githubusercontent.com/nyu-mll/crows-pairs/master/data/crows_pairs_anonymized.csv\"\n",
    "df = pd.read_csv(url)\n",
    "df = df[[\"sent_more\", \"sent_less\", \"bias_type\"]]\n",
    "\n",
    "# Convert to Hugging Face Dataset\n",
    "dataset = Dataset.from_pandas(df)\n",
    "\n",
    "# Sample 50 examples (with fixed seed for reproducibility)\n",
    "sampled_dataset = dataset.shuffle(seed=42).select(range(50))\n",
    "\n",
    "# Convert back to pandas DataFrame\n",
    "sampled_df = sampled_dataset.to_pandas()\n",
    "\n",
    "# Save to CSV\n",
    "sampled_df.to_csv(\"crows_pairs_sample.csv\", index=False)"
   ]
  },
  {
   "cell_type": "code",
   "execution_count": 3,
   "metadata": {},
   "outputs": [
    {
     "name": "stderr",
     "output_type": "stream",
     "text": [
      "Filter: 100%|██████████| 15011/15011 [00:00<00:00, 124990.96 examples/s]\n"
     ]
    }
   ],
   "source": [
    "# ----------------------\n",
    "# 2. Dolly 15k: classification category only\n",
    "# ----------------------\n",
    "dolly_ds = load_dataset(\"databricks/databricks-dolly-15k\", split=\"train\")\n",
    "\n",
    "# Filter for classification category\n",
    "dolly_cls = dolly_ds.filter(lambda x: x[\"category\"] == \"classification\")\n",
    "\n",
    "# label_counts = pd.Series([ex['response'] for ex in dolly_cls]).value_counts()\n",
    "\n",
    "# Sample 50 examples from classification category\n",
    "dolly_sample = dolly_cls.shuffle(seed=42).select(range(50))\n",
    "\n",
    "# Save to CSV/JSON\n",
    "dolly_df = dolly_sample.to_pandas()\n",
    "dolly_df.to_csv(\"dolly_classification_50.csv\", index=False)\n",
    "dolly_df.to_json(\"dolly_classification_50.json\", orient=\"records\", lines=True)"
   ]
  },
  {
   "cell_type": "code",
   "execution_count": 2,
   "metadata": {},
   "outputs": [],
   "source": [
    "from datasets import load_dataset, concatenate_datasets\n",
    "import pandas as pd\n",
    "\n",
    "# IMDb: 50 positive + 50 negative\n",
    "imdb_ds = load_dataset(\"stanfordnlp/imdb\", split=\"train\")\n",
    "\n",
    "positive_samples = imdb_ds.filter(lambda x: x[\"label\"] == 1).shuffle(seed=42).select(range(50))\n",
    "negative_samples = imdb_ds.filter(lambda x: x[\"label\"] == 0).shuffle(seed=42).select(range(50))\n",
    "\n",
    "# Correct way to combine\n",
    "imdb_sample = concatenate_datasets([positive_samples, negative_samples])\n",
    "imdb_sample = imdb_sample.shuffle(seed=42)\n",
    "\n",
    "# Save\n",
    "imdb_df = imdb_sample.to_pandas()\n",
    "imdb_df.to_csv(\"imdb_100_balanced.csv\", index=False)\n",
    "imdb_df.to_json(\"imdb_100_balanced.json\", orient=\"records\", lines=True)\n",
    "\n"
   ]
  }
 ],
 "metadata": {
  "kernelspec": {
   "display_name": "base",
   "language": "python",
   "name": "python3"
  },
  "language_info": {
   "codemirror_mode": {
    "name": "ipython",
    "version": 3
   },
   "file_extension": ".py",
   "mimetype": "text/x-python",
   "name": "python",
   "nbconvert_exporter": "python",
   "pygments_lexer": "ipython3",
   "version": "3.12.2"
  }
 },
 "nbformat": 4,
 "nbformat_minor": 2
}
