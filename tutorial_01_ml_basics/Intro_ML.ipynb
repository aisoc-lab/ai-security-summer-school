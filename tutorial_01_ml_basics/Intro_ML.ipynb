{
 "cells": [
  {
   "cell_type": "markdown",
   "id": "09001dbf",
   "metadata": {},
   "source": [
    "### In this tutorial, you will perform both regression and classification tasks using [scikit-learn](https://scikit-learn.org/stable/getting_started.html). Before starting, make sure you have set up your conda environment according to the instructions provided."
   ]
  },
  {
   "cell_type": "code",
   "execution_count": null,
   "id": "0639c0ce",
   "metadata": {},
   "outputs": [],
   "source": [
    "# Numerical and plotting libraries\n",
    "import numpy as np\n",
    "import matplotlib.pyplot as plt\n",
    "import matplotlib\n",
    "\n",
    "# Scikit-learn: datasets\n",
    "from sklearn.datasets import make_moons, make_classification, fetch_openml\n",
    "\n",
    "# Scikit-learn: models\n",
    "from sklearn.linear_model import LinearRegression, LogisticRegression\n",
    "from sklearn.neural_network import MLPClassifier\n",
    "\n",
    "# Scikit-learn: model evaluation and preprocessing\n",
    "from sklearn.model_selection import train_test_split\n",
    "from sklearn.metrics import (\n",
    "    mean_squared_error,\n",
    "    mean_absolute_error,\n",
    "    r2_score,\n",
    "    accuracy_score\n",
    ")\n",
    "\n",
    "# Set plot font size for better visibility\n",
    "font = {'size': 16}\n",
    "matplotlib.rc('font', **font)"
   ]
  },
  {
   "cell_type": "markdown",
   "id": "ccef2343",
   "metadata": {},
   "source": [
    "## Exercise 1: Predicting Fuel Efficiency with Linear Regression\n",
    "\n",
    "**Problem Description**\n",
    "\n",
    "You are given real-world data on automobile fuel efficiency. Each record contains information about a car’s technical specifications and its fuel efficiency measured in miles per gallon (MPG).\n",
    "\n",
    "In this exercise, you will build a linear regression model to predict a car’s fuel efficiency (MPG) based on its engine displacement (displacement).\n",
    "\n",
    "#### Your Tasks\n",
    "1. Load the dataset using fetch_openml:\n",
    "\n",
    "    ```python\n",
    "    from sklearn.datasets import fetch_openml\n",
    "    data = fetch_openml(\"autoMpg\", version=1, as_frame=True)\n",
    "    df = data.frame\n",
    "    ```\n",
    "    \n",
    "2. Extract:\n",
    "    - Features (X): use only the displacement column.\n",
    "    - Target (y): use the target values provided by data.target.\n",
    "\n",
    "3. Visualize the data:\n",
    "Create a scatter plot showing displacement (engine size) vs MPG (fuel efficiency).\n",
    "\n",
    "4. Split the data into train and test sets:\n",
    "Use 80% of the data for training and 20% for testing.\n",
    "\n",
    "5. Train a Linear Regression model to predict MPG from displacement.\n",
    "\n",
    "6. Evaluate your model using:\n",
    "    - Mean Squared Error (MSE): MSE = (1 / N) * sum ( (y_i - y_hat_i)^2 ) --> Penalizes large errors more.\n",
    "    - Mean Absolute Error (MAE): MAE = (1 / N) * sum ( |y_i - y_hat_i| ) --> More robust to outliers.\n",
    "    - R² score --> Proportion of variance explained by the model. Values close to 1 are better.\n",
    "\n",
    "7. Visualize the model predictions:\n",
    "    - Plot the test data points.\n",
    "    - Plot the predicted values from your model."
   ]
  },
  {
   "cell_type": "markdown",
   "id": "6ddc8814",
   "metadata": {},
   "source": [
    "### Step 1: Load and Inspect the Data"
   ]
  },
  {
   "cell_type": "code",
   "execution_count": null,
   "id": "2b3dcad8",
   "metadata": {},
   "outputs": [],
   "source": [
    "# Load the dataset\n",
    "data = fetch_openml(\"autoMpg\", version=1, as_frame=True)\n",
    "df = data.frame\n",
    "\n",
    "# Print the first few rows\n",
    "print(df.head())"
   ]
  },
  {
   "cell_type": "markdown",
   "id": "e8bdbe59",
   "metadata": {},
   "source": [
    "### Step 2: Extract Features and Target"
   ]
  },
  {
   "cell_type": "code",
   "execution_count": null,
   "id": "1f353618",
   "metadata": {},
   "outputs": [],
   "source": [
    "# TODO: Select displacement column as feature X\n",
    "X = ...\n",
    "\n",
    "# TODO: Use the target provided in the dataset\n",
    "y = ..."
   ]
  },
  {
   "cell_type": "markdown",
   "id": "afcc7e55",
   "metadata": {},
   "source": [
    "###  Step 3: Visualize the Data"
   ]
  },
  {
   "cell_type": "code",
   "execution_count": null,
   "id": "92911493",
   "metadata": {},
   "outputs": [],
   "source": [
    "# TODO: Create a scatter plot of displacement vs MPG\n",
    "plt.figure(figsize=(8,6))\n",
    "...\n",
    "plt.xlabel(\"Engine Displacement (cubic inches)\")\n",
    "plt.ylabel(\"Fuel Efficiency (MPG)\")\n",
    "plt.title(\"Engine Size vs Fuel Efficiency\")\n",
    "plt.show()"
   ]
  },
  {
   "cell_type": "markdown",
   "id": "f30e19d8",
   "metadata": {},
   "source": [
    "### Step 4: Split into Training and Test Sets"
   ]
  },
  {
   "cell_type": "code",
   "execution_count": null,
   "id": "4180e71f",
   "metadata": {},
   "outputs": [],
   "source": [
    "# TODO: Use 80% for training and 20% for testing\n",
    "X_train, X_test, y_train, y_test = ..."
   ]
  },
  {
   "cell_type": "markdown",
   "id": "c61bd69c",
   "metadata": {},
   "source": [
    "### Step 5: Train Linear Regression"
   ]
  },
  {
   "cell_type": "code",
   "execution_count": null,
   "id": "340c2417",
   "metadata": {},
   "outputs": [],
   "source": [
    "# TODO: Create and train the model\n",
    "model = ...\n",
    "model.fit(...)"
   ]
  },
  {
   "cell_type": "markdown",
   "id": "fb45b48e",
   "metadata": {},
   "source": [
    "### Step 6: Evaluate the Model"
   ]
  },
  {
   "cell_type": "code",
   "execution_count": null,
   "id": "3feaa786",
   "metadata": {},
   "outputs": [],
   "source": [
    "# TODO: Predict on the test set\n",
    "y_pred = ...\n",
    "\n",
    "# TODO: Compute MSE, MAE, R²\n",
    "mse = ...\n",
    "mae = ...\n",
    "r2 = ...\n",
    "\n",
    "print(f\"Mean Squared Error (MSE): {mse:.2f}\")\n",
    "print(f\"Mean Absolute Error (MAE): {mae:.2f}\")\n",
    "print(f\"R² Score: {r2:.3f}\")"
   ]
  },
  {
   "cell_type": "markdown",
   "id": "cc994464",
   "metadata": {},
   "source": [
    "### Step 7: Visualize Predictions"
   ]
  },
  {
   "cell_type": "code",
   "execution_count": null,
   "id": "e64a178d",
   "metadata": {},
   "outputs": [],
   "source": [
    "# TODO: Plot test data and predicted values\n",
    "plt.figure(figsize=(8,6))\n",
    "plt.scatter(X_test, y_test, label=\"Test data\", alpha=0.7)\n",
    "plt.scatter(X_test, y_pred, label=\"Predictions\", color='red')\n",
    "plt.xlabel(\"Engine Displacement (cubic inches)\")\n",
    "plt.ylabel(\"Fuel Efficiency (MPG)\")\n",
    "plt.title(\"Model Predictions vs Actual Values\")\n",
    "plt.legend()\n",
    "plt.show()"
   ]
  },
  {
   "cell_type": "markdown",
   "id": "64071c80",
   "metadata": {},
   "source": [
    "## Exercise 2: Non-linear Classification using Logistic Regression and Neural Network\n",
    "\n",
    "Problem Description: You are given a non-linear binary classification problem where two classes are shaped like interleaving moons (non-linearly separable data).\n",
    "\n",
    "Your goal is to:\n",
    "- Train two classifiers:\n",
    "- Logistic Regression\n",
    "- Neural Network (MLPClassifier)\n",
    "- Compare their performance and visualize their decision boundaries.\n",
    "\n",
    "1. Generate the dataset using make_moons() function from sklearn.datasets:\n",
    "Use n_samples=500, noise=0.2, and random_state=42.\n",
    "\n",
    "2. Visualize the dataset using scatter plot, color-coded by class.\n",
    "\n",
    "3. Train a Logistic Regression model on the full dataset and compute its accuracy.\n",
    "\n",
    "4. Train a Neural Network (MLPClassifier) on the same data with:\n",
    "MLPClassifier(hidden_layer_sizes=(10, 10), max_iter=2000, random_state=42)\n",
    "and compute its accuracy.\n",
    "\n",
    "5. Build a meshgrid covering the input space and visualize the decision boundaries of both models side-by-side.\n"
   ]
  },
  {
   "cell_type": "code",
   "execution_count": null,
   "id": "83ba4d65",
   "metadata": {},
   "outputs": [],
   "source": [
    "# Your code here"
   ]
  }
 ],
 "metadata": {
  "kernelspec": {
   "display_name": "base",
   "language": "python",
   "name": "python3"
  },
  "language_info": {
   "codemirror_mode": {
    "name": "ipython",
    "version": 3
   },
   "file_extension": ".py",
   "mimetype": "text/x-python",
   "name": "python",
   "nbconvert_exporter": "python",
   "pygments_lexer": "ipython3",
   "version": "3.12.7"
  }
 },
 "nbformat": 4,
 "nbformat_minor": 5
}
